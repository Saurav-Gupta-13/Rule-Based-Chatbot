{
  "nbformat": 4,
  "nbformat_minor": 0,
  "metadata": {
    "colab": {
      "provenance": []
    },
    "kernelspec": {
      "name": "python3",
      "display_name": "Python 3"
    },
    "language_info": {
      "name": "python"
    }
  },
  "cells": [
    {
      "cell_type": "code",
      "execution_count": 4,
      "metadata": {
        "id": "kpOqcuB87OlW"
      },
      "outputs": [],
      "source": [
        "import re\n",
        "import random"
      ]
    },
    {
      "cell_type": "code",
      "source": [
        "class RuleBot:\n",
        "  negative_response=(\"no\",\"nope\",\"nah\",\"naw\",\"not a chance\",\"sorry\")\n",
        "  exit_commands=(\"quit\",\"pause\",\"exit\",\"goodbye\",\"bye\",\"later\")\n",
        "  random_questions=(\"why are you here?\",\n",
        "                    \"Are there many humans like you ? \",\n",
        "                    \"what do you consume for sustenance? \",\n",
        "                    \"Is there intelligent life on this planet?\",\n",
        "                    \"Does Earth have a Leader\",\n",
        "                    \"What Planets have you visited? \",\n",
        "                    \"What technology do you have on this planet? \"\n",
        "                    )\n",
        "  \n",
        "  def __init__(self):\n",
        "    self.alienbabble={'describe_planet_intent':r'.*\\s*your planet,*',\n",
        "                      'answer_why_intent':r'why\\sare.*',\n",
        "                      'about_intellipaat:':r'.*\\s*intellipaat',\n",
        "                      'about_session': r'.*\\s*session'\n",
        "                      }\n",
        "\n",
        "  def about_session(self):\n",
        "    responses=(\"session is on 14th Aug 2022\\n\",'Session was cool')\n",
        "    return random.choice(responses)\n",
        "      \n",
        "  def greet(self):\n",
        "    self.name=input(\"what is yout name?\\n\")\n",
        "    will_help=input(f\"Hi {self.name},I am Rule-Bot. Will you Help me learn about your planet?\\n\")\n",
        "    if will_help in self.negative_response:\n",
        "      print(\"Ok,have an nice Earth-day!\")\n",
        "      return\n",
        "    self.chat()\n",
        "\n",
        "\n",
        "  def make_exit(self,reply):\n",
        "    for command in self.exit_commands:\n",
        "      if reply==command:\n",
        "        print(\"Okay,Have a nice Earth day!\")\n",
        "        return True\n",
        "\n",
        "\n",
        "  def chat(self):\n",
        "    reply=input(random.choice(self.random_questions)).lower()\n",
        "    while not self.make_exit(reply):\n",
        "      reply=input(self.match_reply(reply))\n",
        "\n",
        "\n",
        "  def match_reply(self,reply):\n",
        "    for key,value in self.alienbabble.items():\n",
        "      intent=key\n",
        "      regex_pattern=value\n",
        "      found_match=re.match(regex_pattern,reply)\n",
        "      if found_match and intent=='describe_planet_intent':\n",
        "        return self.describe_planet_intent()\n",
        "      elif found_match and intent== 'answer_why_intent':\n",
        "        return self.answer_why_intent()\n",
        "      elif found_match and intent== 'about_intellipaat':\n",
        "        return self.about_intellipaat()\n",
        "      elif found_match and intent== 'about_session':\n",
        "        return self.about_session()\n",
        "    if not found_match:\n",
        "      return self.no_match()\n",
        "\n",
        "\n",
        "  def describe_planet_intent(self):\n",
        "    responses=(\"My Planet is a Mars of diverse species.\\n\",\n",
        "               \"I am from uranus,the capital of the wayward Galaxies.\\n\")\n",
        "    return random.choice(responses)\n",
        "\n",
        "  def answer_why_intent(self):\n",
        "    responses=(\"I come in peace\\n\",\"I am here to collect data on your planetand its inhabitants\\n\",\n",
        "               \"I heard the coffee is good\\n\")\n",
        "    return random.choice(responses)\n",
        "\n",
        "  def about_intellipaat(self):\n",
        "    responses=(\"Intellipaat is world largest edu company\\n\",\"Intellipaat will make you learn concepts easy\",\n",
        "              \"Intellipaat is where your career and skill grows\\n\")\n",
        "    return random.choice(responses)\n",
        "\n",
        "  def no_match(self):\n",
        "    responses=(\"Please tell\\n\",\"Tell me more\\n\",\"Why do you say that\\n\",\"I see can you elaborate\\n\",\"Intresting\\n\",\"How do you think I feel when you say that?\\n\")\n",
        "    return random.choice(responses)\n",
        "\n",
        "AlienBot = RuleBot()\n",
        "AlienBot.greet()\n",
        "\n",
        "\n",
        "\n",
        "\n",
        "\n"
      ],
      "metadata": {
        "id": "bMK4xxNt7tdq",
        "colab": {
          "base_uri": "https://localhost:8080/"
        },
        "outputId": "b5251afa-a4b1-4b52-d7eb-614a8eb918e8"
      },
      "execution_count": 13,
      "outputs": [
        {
          "output_type": "stream",
          "name": "stdout",
          "text": [
            "what is yout name?\n",
            "smg\n",
            "Hi smg,I am Rule-Bot. Will you Help me learn about your planet?\n",
            "Yes\n",
            "Are there many humans like you ? Yes many humans exsit on earth\n",
            "Intresting\n",
            "tell me about yourself\n",
            "Why do you say that\n",
            "to know more\n",
            "Why do you say that\n",
            "To gain knowledge\n",
            "Please tell\n",
            "What is your working\n",
            "Why do you say that\n",
            "quit\n",
            "Okay,Have a nice Earth day!\n"
          ]
        }
      ]
    }
  ]
}